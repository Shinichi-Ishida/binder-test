{
 "cells": [
  {
   "cell_type": "code",
   "execution_count": 227,
   "id": "83f3af36",
   "metadata": {},
   "outputs": [],
   "source": [
    "%matplotlib inline\n",
    "import networkx as nx\n",
    "import matplotlib as mpl\n",
    "import matplotlib.pyplot as plt"
   ]
  },
  {
   "cell_type": "code",
   "execution_count": 228,
   "id": "ef1847cc",
   "metadata": {},
   "outputs": [],
   "source": [
    "NNODES = 20\n",
    "DEGREE = 10"
   ]
  },
  {
   "cell_type": "code",
   "execution_count": 229,
   "id": "0df54328",
   "metadata": {},
   "outputs": [],
   "source": [
    "def main():\n",
    "        nnodes = NNODES\n",
    "        degree = DEGREE\n",
    "        assert degree < nnodes\n",
    "\n",
    "        low_diam, low_aspl = lower_bound_of_diam_aspl(nnodes, degree)\n",
    "        g = nx.random_regular_graph(degree, nnodes, 0)\n",
    "        if nx.is_connected(g):\n",
    "                hops = nx.shortest_path_length(g, weight=None)\n",
    "                diam, aspl = max_avg_for_matrix(hops)\n",
    "        else:\n",
    "                diam, aspl = float(\"inf\"), float(\"inf\")\n",
    "        \n",
    "        print(\"nnodes,\\tdegree,\\tdiam,\\taspl,\\t\\t\\tdiam - low_diam,\\taspl - low_aspl,\\t100 * (aspl - low_aspl) / low_aspl)\")\n",
    "        print(\"{}\\t{}\\t{}\\t{}\\t{}\\t\\t\\t{}\\t\\t\\t{}%\".format(nnodes, degree, diam, aspl, diam - low_diam, aspl - low_aspl, 100 * (aspl - low_aspl) / low_aspl))\n",
    "\n",
    "        display_image(g)\n",
    "        return\n"
   ]
  },
  {
   "cell_type": "code",
   "execution_count": 230,
   "id": "8c1b38dd",
   "metadata": {},
   "outputs": [],
   "source": [
    "def display_image(g):\n",
    "#        mpl.use('Agg')\n",
    "#       layout = nx.spring_layout(g)\n",
    "        layout = nx.circular_layout(g)\n",
    "        nx.draw(g, with_labels=False, node_size=50, linewidths=0, alpha=0.5, node_color='#3399ff', edge_color='#666666', pos=layout)\n",
    "#        plt.draw()\n",
    "        plt.show()\n",
    "#        plt.savefig(filepath)\n",
    "        return\n"
   ]
  },
  {
   "cell_type": "code",
   "execution_count": 231,
   "id": "a75afd01",
   "metadata": {},
   "outputs": [],
   "source": [
    "def lower_bound_of_diam_aspl(nnodes, degree):\n",
    "        diam = -1\n",
    "        aspl = 0.0\n",
    "        n = 1\n",
    "        r = 1\n",
    "        while True:\n",
    "                tmp = n + degree * pow(degree - 1, r - 1)\n",
    "                if tmp >= nnodes:\n",
    "                        break\n",
    "                n = tmp\n",
    "                aspl += r * degree * pow(degree - 1, r - 1)\n",
    "                diam = r\n",
    "                r += 1\n",
    "        diam += 1\n",
    "        aspl += diam * (nnodes - n)\n",
    "        aspl /= (nnodes - 1)\n",
    "        return diam, aspl\n"
   ]
  },
  {
   "cell_type": "code",
   "execution_count": 232,
   "id": "2d5921f7",
   "metadata": {},
   "outputs": [],
   "source": [
    "def max_avg_for_matrix(data):\n",
    "        cnt = 0\n",
    "        sum = 0.0\n",
    "        max = 0.0\n",
    "        if nx.__version__ >= \"2.0\":\n",
    "                for i, row in data:\n",
    "                        for j, val in row.items():\n",
    "                                if i != j:\n",
    "                                        cnt += 1\n",
    "                                        sum += val\n",
    "                                        if max < val:\n",
    "                                                max = val\n",
    "        else:\n",
    "                for i in data:\n",
    "                        for j in data[i]:\n",
    "                                if i != j:\n",
    "                                        cnt += 1\n",
    "                                        sum += data[i][j]\n",
    "                                        if max < data[i][j]:\n",
    "                                                max = data[i][j]\n",
    "        return max, sum / cnt\n"
   ]
  },
  {
   "cell_type": "code",
   "execution_count": 233,
   "id": "5cb30c15",
   "metadata": {},
   "outputs": [],
   "source": [
    "main()"
   ]
  }
 ],
 "metadata": {
  "kernelspec": {
   "display_name": "Python 3 (ipykernel)",
   "language": "python",
   "name": "python3"
  },
  "language_info": {
   "codemirror_mode": {
    "name": "ipython",
    "version": 3
   },
   "file_extension": ".py",
   "mimetype": "text/x-python",
   "name": "python",
   "nbconvert_exporter": "python",
   "pygments_lexer": "ipython3",
   "version": "3.9.7"
  }
 },
 "nbformat": 4,
 "nbformat_minor": 5
}


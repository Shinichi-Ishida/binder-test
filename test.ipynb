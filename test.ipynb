{
 "cells": [
  {
   "cell_type": "code",
   "execution_count": 1,
   "metadata": {
    "deletable": false,
    "editable": false,
    "lc_cell_meme": {
     "current": "8f2bee72-5bf4-11ec-9503-0242ac120002",
     "execution_end_time": "2021-12-13T09:10:35.992295Z",
     "next": "8f2bef76-5bf4-11ec-9503-0242ac120002",
     "previous": null
    },
    "run_through_control": {
     "frozen": true
    }
   },
   "outputs": [
    {
     "name": "stdout",
     "output_type": "stream",
     "text": [
      "hello binder!\n"
     ]
    }
   ],
   "source": [
    "print(\"hello binder!\")"
   ]
  },
  {
   "cell_type": "code",
   "execution_count": null,
   "metadata": {
    "lc_cell_meme": {
     "current": "8f2bef76-5bf4-11ec-9503-0242ac120002",
     "next": null,
     "previous": "8f2bee72-5bf4-11ec-9503-0242ac120002"
    }
   },
   "outputs": [],
   "source": []
  }
 ],
 "metadata": {
  "kernelspec": {
   "display_name": "Python 3",
   "language": "python",
   "name": "python3"
  },
  "language_info": {
   "codemirror_mode": {
    "name": "ipython",
    "version": 3
   },
   "file_extension": ".py",
   "mimetype": "text/x-python",
   "name": "python",
   "nbconvert_exporter": "python",
   "pygments_lexer": "ipython3",
   "version": "3.8.6"
  },
  "lc_notebook_meme": {
   "current": "8f2be5e4-5bf4-11ec-9503-0242ac120002",
   "lc_server_signature": {
    "current": {
     "notebook_dir": "/home/jovyan",
     "notebook_path": "/weko3_notify",
     "server_url": "https://35.213.19.136/",
     "signature_id": "b8a65e7a-429c-11ec-9b68-0242ac120002"
    },
    "history": []
   }
  },
  "toc": {
   "base_numbering": 1,
   "nav_menu": {},
   "number_sections": true,
   "sideBar": true,
   "skip_h1_title": false,
   "title_cell": "Table of Contents",
   "title_sidebar": "Contents",
   "toc_cell": false,
   "toc_position": {},
   "toc_section_display": true,
   "toc_window_display": false
  }
 },
 "nbformat": 4,
 "nbformat_minor": 4
}

